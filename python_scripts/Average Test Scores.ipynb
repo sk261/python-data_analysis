{
 "cells": [
  {
   "cell_type": "code",
   "execution_count": 1,
   "metadata": {},
   "outputs": [],
   "source": [
    "import pandas as pd\n",
    "import matplotlib.pyplot as plt\n",
    "import numpy as np"
   ]
  },
  {
   "cell_type": "code",
   "execution_count": 2,
   "metadata": {},
   "outputs": [],
   "source": [
    "_data = pd.read_csv('../resources/data.csv', skiprows=[2])"
   ]
  },
  {
   "cell_type": "code",
   "execution_count": 3,
   "metadata": {},
   "outputs": [],
   "source": [
    "ans_key = _data.head(1)"
   ]
  },
  {
   "cell_type": "code",
   "execution_count": 4,
   "metadata": {},
   "outputs": [],
   "source": [
    "data = _data.drop(_data.index[0])"
   ]
  },
  {
   "cell_type": "markdown",
   "metadata": {},
   "source": [
    "## Adding more columns\n",
    "* Test grade\n",
    "* Answered questions"
   ]
  },
  {
   "cell_type": "code",
   "execution_count": 5,
   "metadata": {},
   "outputs": [],
   "source": [
    "data[\"TestGrade\"]=[None]*data.shape[0]\n",
    "data[\"QuestionsAnswered\"]=[None]*data.shape[0]\n",
    "data[\"PostGrade\"]=[None]*data.shape[0]\n",
    "data[\"PostAnswers\"]=[None]*data.shape[0]"
   ]
  },
  {
   "cell_type": "code",
   "execution_count": 6,
   "metadata": {},
   "outputs": [],
   "source": [
    "#data.iloc[0] # Check to see if it work"
   ]
  },
  {
   "cell_type": "code",
   "execution_count": 7,
   "metadata": {},
   "outputs": [],
   "source": [
    "#for index, row in data.iterrows(): print(index)"
   ]
  },
  {
   "cell_type": "code",
   "execution_count": 8,
   "metadata": {},
   "outputs": [],
   "source": [
    "#for x in range(27): print(data.iloc[0][x+5] == ans_key.iloc[0][x])"
   ]
  },
  {
   "cell_type": "code",
   "execution_count": 9,
   "metadata": {},
   "outputs": [],
   "source": [
    "post_grades = {}\n",
    "for index, row in data.iterrows():\n",
    "    grade = 0\n",
    "    answered = 0\n",
    "    for x in range(27):\n",
    "        if(not row.isna()[x+5]):\n",
    "            answered += 1\n",
    "            if(row[x+5] == ans_key.iloc[0][x]):\n",
    "                grade += 1\n",
    "    data.loc[index,\"QuestionsAnswered\"] = answered\n",
    "    data.loc[index,\"TestGrade\"] = grade / 27.0\n",
    "    if (row[2] == \"Post\"):\n",
    "        post = {}\n",
    "        post[row[1]] = [row[3], data.loc[index,\"TestGrade\"], data.loc[index,\"QuestionsAnswered\"]]\n",
    "        post_grades[row[0]] = post\n",
    "for a in post_grades:\n",
    "    for b in post_grades[a]:\n",
    "        grade = post_grades[a][b][1]\n",
    "        answers = post_grades[a][b][2]\n",
    "        data.loc[(data['Participant Code'] == a) & (data['Test'] == 'Pre') & (data['Term'] == b),'PostGrade'] = grade\n",
    "        data.loc[(data['Participant Code'] == a) & (data['Test'] == 'Pre') & (data['Term'] == b), 'PostAnswers'] = answers"
   ]
  },
  {
   "cell_type": "code",
   "execution_count": 10,
   "metadata": {},
   "outputs": [
    {
     "data": {
      "text/plain": [
       "(147, 37)"
      ]
     },
     "execution_count": 10,
     "metadata": {},
     "output_type": "execute_result"
    }
   ],
   "source": [
    "data.shape"
   ]
  },
  {
   "cell_type": "code",
   "execution_count": 11,
   "metadata": {},
   "outputs": [],
   "source": [
    "preScores = data[data['PostGrade'].notnull()]"
   ]
  },
  {
   "cell_type": "code",
   "execution_count": 12,
   "metadata": {},
   "outputs": [
    {
     "data": {
      "text/html": [
       "<div>\n",
       "<style scoped>\n",
       "    .dataframe tbody tr th:only-of-type {\n",
       "        vertical-align: middle;\n",
       "    }\n",
       "\n",
       "    .dataframe tbody tr th {\n",
       "        vertical-align: top;\n",
       "    }\n",
       "\n",
       "    .dataframe thead th {\n",
       "        text-align: right;\n",
       "    }\n",
       "</style>\n",
       "<table border=\"1\" class=\"dataframe\">\n",
       "  <thead>\n",
       "    <tr style=\"text-align: right;\">\n",
       "      <th></th>\n",
       "      <th>Participant Code</th>\n",
       "      <th>Term</th>\n",
       "      <th>Test</th>\n",
       "      <th>Instructor</th>\n",
       "      <th>LetterGrade</th>\n",
       "      <th>PercentGrade</th>\n",
       "      <th>Q1</th>\n",
       "      <th>Q2</th>\n",
       "      <th>Q3</th>\n",
       "      <th>Q4</th>\n",
       "      <th>...</th>\n",
       "      <th>Q22</th>\n",
       "      <th>Q23</th>\n",
       "      <th>Q24</th>\n",
       "      <th>Q25</th>\n",
       "      <th>Q26</th>\n",
       "      <th>Q27</th>\n",
       "      <th>TestGrade</th>\n",
       "      <th>QuestionsAnswered</th>\n",
       "      <th>PostGrade</th>\n",
       "      <th>PostAnswers</th>\n",
       "    </tr>\n",
       "  </thead>\n",
       "  <tbody>\n",
       "    <tr>\n",
       "      <th>3</th>\n",
       "      <td>82</td>\n",
       "      <td>1.0</td>\n",
       "      <td>Pre</td>\n",
       "      <td>A</td>\n",
       "      <td>B+</td>\n",
       "      <td>84.94</td>\n",
       "      <td>C</td>\n",
       "      <td>C</td>\n",
       "      <td>A</td>\n",
       "      <td>C</td>\n",
       "      <td>...</td>\n",
       "      <td>D</td>\n",
       "      <td>C</td>\n",
       "      <td>A</td>\n",
       "      <td>E</td>\n",
       "      <td>B</td>\n",
       "      <td>B</td>\n",
       "      <td>0</td>\n",
       "      <td>26</td>\n",
       "      <td>0.148148</td>\n",
       "      <td>25</td>\n",
       "    </tr>\n",
       "    <tr>\n",
       "      <th>6</th>\n",
       "      <td>76</td>\n",
       "      <td>1.0</td>\n",
       "      <td>Pre</td>\n",
       "      <td>A</td>\n",
       "      <td>A</td>\n",
       "      <td>95.57</td>\n",
       "      <td>A</td>\n",
       "      <td>NaN</td>\n",
       "      <td>D</td>\n",
       "      <td>NaN</td>\n",
       "      <td>...</td>\n",
       "      <td>NaN</td>\n",
       "      <td>C</td>\n",
       "      <td>NaN</td>\n",
       "      <td>NaN</td>\n",
       "      <td>NaN</td>\n",
       "      <td>NaN</td>\n",
       "      <td>0.037037</td>\n",
       "      <td>9</td>\n",
       "      <td>0.185185</td>\n",
       "      <td>21</td>\n",
       "    </tr>\n",
       "    <tr>\n",
       "      <th>8</th>\n",
       "      <td>75</td>\n",
       "      <td>1.0</td>\n",
       "      <td>Pre</td>\n",
       "      <td>A</td>\n",
       "      <td>A</td>\n",
       "      <td>99.57</td>\n",
       "      <td>A</td>\n",
       "      <td>NaN</td>\n",
       "      <td>D</td>\n",
       "      <td>A</td>\n",
       "      <td>...</td>\n",
       "      <td>NaN</td>\n",
       "      <td>NaN</td>\n",
       "      <td>NaN</td>\n",
       "      <td>NaN</td>\n",
       "      <td>NaN</td>\n",
       "      <td>NaN</td>\n",
       "      <td>0.0740741</td>\n",
       "      <td>16</td>\n",
       "      <td>0.185185</td>\n",
       "      <td>23</td>\n",
       "    </tr>\n",
       "    <tr>\n",
       "      <th>11</th>\n",
       "      <td>70</td>\n",
       "      <td>1.0</td>\n",
       "      <td>Pre</td>\n",
       "      <td>A</td>\n",
       "      <td>A</td>\n",
       "      <td>98.74</td>\n",
       "      <td>B</td>\n",
       "      <td>NaN</td>\n",
       "      <td>D</td>\n",
       "      <td>B</td>\n",
       "      <td>...</td>\n",
       "      <td>NaN</td>\n",
       "      <td>C</td>\n",
       "      <td>NaN</td>\n",
       "      <td>NaN</td>\n",
       "      <td>NaN</td>\n",
       "      <td>NaN</td>\n",
       "      <td>0.0740741</td>\n",
       "      <td>18</td>\n",
       "      <td>0.148148</td>\n",
       "      <td>25</td>\n",
       "    </tr>\n",
       "    <tr>\n",
       "      <th>15</th>\n",
       "      <td>84</td>\n",
       "      <td>1.0</td>\n",
       "      <td>Pre</td>\n",
       "      <td>A</td>\n",
       "      <td>A</td>\n",
       "      <td>94.17</td>\n",
       "      <td>NaN</td>\n",
       "      <td>NaN</td>\n",
       "      <td>NaN</td>\n",
       "      <td>NaN</td>\n",
       "      <td>...</td>\n",
       "      <td>NaN</td>\n",
       "      <td>NaN</td>\n",
       "      <td>NaN</td>\n",
       "      <td>NaN</td>\n",
       "      <td>NaN</td>\n",
       "      <td>NaN</td>\n",
       "      <td>0</td>\n",
       "      <td>1</td>\n",
       "      <td>0.148148</td>\n",
       "      <td>27</td>\n",
       "    </tr>\n",
       "  </tbody>\n",
       "</table>\n",
       "<p>5 rows × 37 columns</p>\n",
       "</div>"
      ],
      "text/plain": [
       "   Participant Code  Term Test Instructor LetterGrade  PercentGrade   Q1   Q2  \\\n",
       "3                82   1.0  Pre          A          B+         84.94    C    C   \n",
       "6                76   1.0  Pre          A           A         95.57    A  NaN   \n",
       "8                75   1.0  Pre          A           A         99.57    A  NaN   \n",
       "11               70   1.0  Pre          A           A         98.74    B  NaN   \n",
       "15               84   1.0  Pre          A           A         94.17  NaN  NaN   \n",
       "\n",
       "     Q3   Q4  ...  Q22  Q23  Q24  Q25  Q26  Q27  TestGrade QuestionsAnswered  \\\n",
       "3     A    C  ...    D    C    A    E    B    B          0                26   \n",
       "6     D  NaN  ...  NaN    C  NaN  NaN  NaN  NaN   0.037037                 9   \n",
       "8     D    A  ...  NaN  NaN  NaN  NaN  NaN  NaN  0.0740741                16   \n",
       "11    D    B  ...  NaN    C  NaN  NaN  NaN  NaN  0.0740741                18   \n",
       "15  NaN  NaN  ...  NaN  NaN  NaN  NaN  NaN  NaN          0                 1   \n",
       "\n",
       "   PostGrade PostAnswers  \n",
       "3   0.148148          25  \n",
       "6   0.185185          21  \n",
       "8   0.185185          23  \n",
       "11  0.148148          25  \n",
       "15  0.148148          27  \n",
       "\n",
       "[5 rows x 37 columns]"
      ]
     },
     "execution_count": 12,
     "metadata": {},
     "output_type": "execute_result"
    }
   ],
   "source": [
    "preScores.head()"
   ]
  },
  {
   "cell_type": "code",
   "execution_count": 13,
   "metadata": {},
   "outputs": [],
   "source": [
    "isolatedInfo = preScores[['Participant Code', 'Term', 'Instructor', 'LetterGrade', 'PercentGrade', 'TestGrade', 'PostGrade', 'QuestionsAnswered', 'PostAnswers']]"
   ]
  },
  {
   "cell_type": "code",
   "execution_count": 14,
   "metadata": {},
   "outputs": [],
   "source": [
    "isolatedInfo = isolatedInfo.copy()"
   ]
  },
  {
   "cell_type": "code",
   "execution_count": 15,
   "metadata": {},
   "outputs": [
    {
     "data": {
      "text/html": [
       "<div>\n",
       "<style scoped>\n",
       "    .dataframe tbody tr th:only-of-type {\n",
       "        vertical-align: middle;\n",
       "    }\n",
       "\n",
       "    .dataframe tbody tr th {\n",
       "        vertical-align: top;\n",
       "    }\n",
       "\n",
       "    .dataframe thead th {\n",
       "        text-align: right;\n",
       "    }\n",
       "</style>\n",
       "<table border=\"1\" class=\"dataframe\">\n",
       "  <thead>\n",
       "    <tr style=\"text-align: right;\">\n",
       "      <th></th>\n",
       "      <th>Participant Code</th>\n",
       "      <th>Term</th>\n",
       "      <th>Instructor</th>\n",
       "      <th>LetterGrade</th>\n",
       "      <th>PercentGrade</th>\n",
       "      <th>TestGrade</th>\n",
       "      <th>PostGrade</th>\n",
       "      <th>QuestionsAnswered</th>\n",
       "      <th>PostAnswers</th>\n",
       "    </tr>\n",
       "  </thead>\n",
       "  <tbody>\n",
       "    <tr>\n",
       "      <th>3</th>\n",
       "      <td>82</td>\n",
       "      <td>1.0</td>\n",
       "      <td>A</td>\n",
       "      <td>B+</td>\n",
       "      <td>84.94</td>\n",
       "      <td>0</td>\n",
       "      <td>0.148148</td>\n",
       "      <td>26</td>\n",
       "      <td>25</td>\n",
       "    </tr>\n",
       "    <tr>\n",
       "      <th>18</th>\n",
       "      <td>9</td>\n",
       "      <td>1.0</td>\n",
       "      <td>A</td>\n",
       "      <td>A</td>\n",
       "      <td>95.77</td>\n",
       "      <td>0.0740741</td>\n",
       "      <td>0.111111</td>\n",
       "      <td>26</td>\n",
       "      <td>23</td>\n",
       "    </tr>\n",
       "    <tr>\n",
       "      <th>38</th>\n",
       "      <td>46</td>\n",
       "      <td>1.0</td>\n",
       "      <td>A</td>\n",
       "      <td>B-</td>\n",
       "      <td>73.01</td>\n",
       "      <td>0.111111</td>\n",
       "      <td>0.222222</td>\n",
       "      <td>27</td>\n",
       "      <td>25</td>\n",
       "    </tr>\n",
       "    <tr>\n",
       "      <th>41</th>\n",
       "      <td>78</td>\n",
       "      <td>1.0</td>\n",
       "      <td>A</td>\n",
       "      <td>C</td>\n",
       "      <td>66.93</td>\n",
       "      <td>0.111111</td>\n",
       "      <td>0.185185</td>\n",
       "      <td>27</td>\n",
       "      <td>26</td>\n",
       "    </tr>\n",
       "    <tr>\n",
       "      <th>73</th>\n",
       "      <td>3</td>\n",
       "      <td>1.0</td>\n",
       "      <td>B</td>\n",
       "      <td>F</td>\n",
       "      <td>28.76</td>\n",
       "      <td>0.0740741</td>\n",
       "      <td>0</td>\n",
       "      <td>8</td>\n",
       "      <td>1</td>\n",
       "    </tr>\n",
       "    <tr>\n",
       "      <th>75</th>\n",
       "      <td>81</td>\n",
       "      <td>1.0</td>\n",
       "      <td>B</td>\n",
       "      <td>A</td>\n",
       "      <td>93.88</td>\n",
       "      <td>0.185185</td>\n",
       "      <td>0</td>\n",
       "      <td>27</td>\n",
       "      <td>1</td>\n",
       "    </tr>\n",
       "    <tr>\n",
       "      <th>78</th>\n",
       "      <td>64</td>\n",
       "      <td>1.0</td>\n",
       "      <td>B</td>\n",
       "      <td>A</td>\n",
       "      <td>101.30</td>\n",
       "      <td>0.259259</td>\n",
       "      <td>0.0740741</td>\n",
       "      <td>26</td>\n",
       "      <td>20</td>\n",
       "    </tr>\n",
       "    <tr>\n",
       "      <th>116</th>\n",
       "      <td>41</td>\n",
       "      <td>2.0</td>\n",
       "      <td>B</td>\n",
       "      <td>C</td>\n",
       "      <td>73.58</td>\n",
       "      <td>0.0740741</td>\n",
       "      <td>0.037037</td>\n",
       "      <td>17</td>\n",
       "      <td>13</td>\n",
       "    </tr>\n",
       "    <tr>\n",
       "      <th>133</th>\n",
       "      <td>1</td>\n",
       "      <td>2.0</td>\n",
       "      <td>B</td>\n",
       "      <td>A</td>\n",
       "      <td>97.72</td>\n",
       "      <td>0.148148</td>\n",
       "      <td>0.037037</td>\n",
       "      <td>25</td>\n",
       "      <td>12</td>\n",
       "    </tr>\n",
       "  </tbody>\n",
       "</table>\n",
       "</div>"
      ],
      "text/plain": [
       "    Participant Code  Term Instructor LetterGrade  PercentGrade  TestGrade  \\\n",
       "3                 82   1.0          A          B+         84.94          0   \n",
       "18                 9   1.0          A           A         95.77  0.0740741   \n",
       "38                46   1.0          A          B-         73.01   0.111111   \n",
       "41                78   1.0          A           C         66.93   0.111111   \n",
       "73                 3   1.0          B           F         28.76  0.0740741   \n",
       "75                81   1.0          B           A         93.88   0.185185   \n",
       "78                64   1.0          B           A        101.30   0.259259   \n",
       "116               41   2.0          B           C         73.58  0.0740741   \n",
       "133                1   2.0          B           A         97.72   0.148148   \n",
       "\n",
       "     PostGrade QuestionsAnswered PostAnswers  \n",
       "3     0.148148                26          25  \n",
       "18    0.111111                26          23  \n",
       "38    0.222222                27          25  \n",
       "41    0.185185                27          26  \n",
       "73           0                 8           1  \n",
       "75           0                27           1  \n",
       "78   0.0740741                26          20  \n",
       "116   0.037037                17          13  \n",
       "133   0.037037                25          12  "
      ]
     },
     "execution_count": 15,
     "metadata": {},
     "output_type": "execute_result"
    }
   ],
   "source": [
    "isolatedInfo[isolatedInfo[\"QuestionsAnswered\"] > isolatedInfo[\"PostAnswers\"]]"
   ]
  },
  {
   "cell_type": "markdown",
   "metadata": {},
   "source": [
    "# Hypothesis\n",
    "On average, those that scored higher in the class should be able to answer more questions and have a higher grade.\n",
    "## Test\n",
    "To test this hypothesis, I'll pull the test grades for all students that have a post-grade. I'll create the following graphs:\n",
    "* Students by letter grade - Improvement in answers (post answers - pre answers)\n",
    "* Students by letter grade - Improvement in percentages (post grade - pre grade)\n",
    "* Improvement in answers (post grade - pre grade) - improvement in answers (post answers - pre answers)"
   ]
  },
  {
   "cell_type": "code",
   "execution_count": 16,
   "metadata": {},
   "outputs": [],
   "source": [
    "isolatedInfo[\"gradeImprovement\"]=[None]*isolatedInfo.shape[0]\n",
    "isolatedInfo[\"answersImprovement\"]=[None]*isolatedInfo.shape[0]\n",
    "isolatedInfo[\"gradeValue\"]=[None]*isolatedInfo.shape[0]"
   ]
  },
  {
   "cell_type": "code",
   "execution_count": 17,
   "metadata": {},
   "outputs": [],
   "source": [
    "def getAvgsDict(x, y):\n",
    "    avgs = {}\n",
    "    totals = {}\n",
    "    for i in range(len(x)):\n",
    "        avgs[x[i]] += y[i]\n",
    "        totals[x[i]] += 1\n",
    "    for n in avgs:\n",
    "        avgs[n] /= totals[n]\n",
    "    return avgs\n",
    "\n",
    "def getAvgsArr(x, y):\n",
    "    avgs = {}\n",
    "    totals = {}\n",
    "    for i in range(len(x)):\n",
    "        if x[i] not in avgs:\n",
    "            avgs[x[i]] = 0\n",
    "        avgs[x[i]] += y[i]\n",
    "        if x[i] not in totals:\n",
    "            totals[x[i]] = 0\n",
    "        totals[x[i]] += 1\n",
    "    for n in avgs:\n",
    "        avgs[n] /= totals[n]\n",
    "    retX = []\n",
    "    retY = []\n",
    "    retSize = []\n",
    "    for n in avgs:\n",
    "        retX.append(n)\n",
    "        retY.append(avgs[n])\n",
    "        retSize.append(totals[n])\n",
    "    return retX, retY, retSize\n",
    "\n",
    "def getApproximateTendline(x, y):\n",
    "    x, y, s = getAvgsArr(x, y)\n",
    "    retX = []\n",
    "    retY = []\n",
    "    pushDir = 0\n",
    "    Smax = max(s)\n",
    "    centerX = x[0]\n",
    "    centerY = y[0]\n",
    "    for n in range(len(s)):\n",
    "        if s[n] == Smax:\n",
    "            centerX = x[n]\n",
    "            centerY = y[n]\n",
    "            break\n",
    "    for n in range(len(x)):\n",
    "        r = abs(x[n] - centerX)\n",
    "        f = (y[n] - centerY)\n",
    "        pushDir += f*r\n",
    "    pushDir /= len(x)*Smax\n",
    "    # y = mx + b\n",
    "    # m = pushDir\n",
    "    # b = centerY - ((centerX-x[0]) * pushDir)\n",
    "    x_ = [min(x), max(x)]\n",
    "    retX = [x_[0], x_[1]]\n",
    "    retY = [centerY - ((centerX-x_[0])*pushDir), centerY + ((x_[1] - centerX)*pushDir)]\n",
    "    return retX, retY"
   ]
  },
  {
   "cell_type": "code",
   "execution_count": 18,
   "metadata": {},
   "outputs": [],
   "source": [
    "def drawGraph(x_axis, y_axis, labels):\n",
    "    draw = isolatedInfo.sort_values(by=[x_axis])\n",
    "    x = draw[[x_axis]].to_numpy().flatten()\n",
    "    y = draw[[y_axis]].to_numpy().flatten()\n",
    "    plt.plot(x, y, 'o')\n",
    "\n",
    "    # \"Trendline\"\n",
    "    x_, y_ = getApproximateTendline(x, y)\n",
    "    plt.plot(x_, y_, \"r--\")\n",
    "    \n",
    "    plt.title(labels[0])\n",
    "    plt.ylabel(labels[1])\n",
    "    plt.xlabel(labels[2])\n",
    "\n",
    "    if len(x_ticks) > 0:\n",
    "        plt.xticks(np.arange(len(x_ticks)),x_ticks)\n",
    "    plt.show()"
   ]
  },
  {
   "cell_type": "code",
   "execution_count": 19,
   "metadata": {},
   "outputs": [],
   "source": [
    "grade_dict = {}\n",
    "x_ticks = []\n",
    "i = 0\n",
    "for a in [\"A\", \"B\", \"C\", \"D\", \"F\"]:\n",
    "    for b in [\"+\", \"\", \"-\"]:\n",
    "        grade_dict[(a+b)] = i\n",
    "        i += 1\n",
    "        x_ticks.append(a+b)"
   ]
  },
  {
   "cell_type": "code",
   "execution_count": 20,
   "metadata": {},
   "outputs": [],
   "source": [
    "for index, row in isolatedInfo.iterrows():\n",
    "    grade = row[\"PostGrade\"] - row[\"TestGrade\"]\n",
    "    answers = row[\"PostAnswers\"] - row[\"QuestionsAnswered\"]\n",
    "    isolatedInfo.loc[index,\"gradeImprovement\"] = grade\n",
    "    isolatedInfo.loc[index,\"answersImprovement\"] = answers\n",
    "    isolatedInfo.loc[index,\"gradeValue\"] = grade_dict[row[\"LetterGrade\"]]"
   ]
  },
  {
   "cell_type": "code",
   "execution_count": 21,
   "metadata": {},
   "outputs": [
    {
     "data": {
      "image/png": "[encoded data removed]",
      "text/plain": [
       "<Figure size 432x288 with 1 Axes>"
      ]
     },
     "metadata": {
      "needs_background": "light"
     },
     "output_type": "display_data"
    }
   ],
   "source": [
    "drawGraph(\"gradeValue\", \"gradeImprovement\",\n",
    "          [\"Class Grade to Pre-Post Test Improvement\", \"Improvement (by percentage)\", \"Grade (by Letter)\"])"
   ]
  },
  {
   "cell_type": "code",
   "execution_count": 22,
   "metadata": {},
   "outputs": [
    {
     "data": {
      "image/png": "[encoded data removed]",
      "text/plain": [
       "<Figure size 432x288 with 1 Axes>"
      ]
     },
     "metadata": {
      "needs_background": "light"
     },
     "output_type": "display_data"
    }
   ],
   "source": [
    "drawGraph(\"gradeValue\", \"answersImprovement\",\n",
    "          [\"Class Grade to Pre-Post Answers Answered\", \"Improvement (by number of questions answered)\", \"Grade (by Letter)\"])"
   ]
  },
  {
   "cell_type": "code",
   "execution_count": 23,
   "metadata": {},
   "outputs": [],
   "source": [
    "x_ticks = []"
   ]
  },
  {
   "cell_type": "code",
   "execution_count": 24,
   "metadata": {},
   "outputs": [
    {
     "data": {
      "image/png": "[encoded data removed]",
      "text/plain": [
       "<Figure size 432x288 with 1 Axes>"
      ]
     },
     "metadata": {
      "needs_background": "light"
     },
     "output_type": "display_data"
    }
   ],
   "source": [
    "drawGraph(\"answersImprovement\", \"gradeImprovement\",\n",
    "          [\"Pre-Post Grade Improvement to Pre-Post Answers Answered\", \"Test Quality Improvement (by percentage)\", \"Questions Answered Improvement (by number of questions answered)\"])"
   ]
  },
  {
   "cell_type": "code",
   "execution_count": 25,
   "metadata": {},
   "outputs": [
    {
     "data": {
      "image/png": "[encoded data removed]",
      "text/plain": [
       "<Figure size 432x288 with 1 Axes>"
      ]
     },
     "metadata": {
      "needs_background": "light"
     },
     "output_type": "display_data"
    }
   ],
   "source": [
    "drawGraph(\"gradeImprovement\", \"answersImprovement\",\n",
    "          [\"Pre-Post Grade Improvement to Pre-Post Answers Answered\", \"Questions Answered Improvement (by number of questions answered)\", \"Test Quality Improvement (by percentage)\"])"
   ]
  },
  {
   "cell_type": "markdown",
   "metadata": {},
   "source": [
    "# Analysis\n",
    "\n",
    "## Results\n"
   ]
  }
 ],
 "metadata": {
  "kernelspec": {
   "display_name": "Python 3",
   "language": "python",
   "name": "python3"
  },
  "language_info": {
   "codemirror_mode": {
    "name": "ipython",
    "version": 3
   },
   "file_extension": ".py",
   "mimetype": "text/x-python",
   "name": "python",
   "nbconvert_exporter": "python",
   "pygments_lexer": "ipython3",
   "version": "3.8.1"
  }
 },
 "nbformat": 4,
 "nbformat_minor": 4
}
